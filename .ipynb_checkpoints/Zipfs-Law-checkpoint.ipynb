{
 "cells": [
  {
   "cell_type": "markdown",
   "metadata": {},
   "source": [
    "## Zipf's Law\n",
    "\n",
    "I learned about this in Alex Bellos's book \"The Grapes of Math\" and wanted to experiment with it a little myself. \n",
    "\n",
    "Zipf's law says that $frequency = \\frac{k}{rank^a}$, where $freqency$ is how many times a given word appears in a book, $rank$ is how common the word is in relation to other words (eg. the tenth-most common book has $rank = 10$), and $k$ and $a$ are constants. \n",
    "\n",
    "### Some code\n",
    "\n",
    "Here's my implementation of this. All you need is a `.txt` file of a book, and you get some handy-dandy plots"
   ]
  },
  {
   "cell_type": "code",
   "execution_count": 2,
   "metadata": {},
   "outputs": [],
   "source": [
    "import string\n",
    "import matplotlib.pyplot as plt\n",
    "from matplotlib.ticker import ScalarFormatter\n",
    "import numpy as np\n",
    "import math\n",
    "import re\n",
    "\n",
    "# Given a txt file, return a list of all lowercase words. \n",
    "def get_words(f_name):\n",
    "    # read in a txt file of a book as a string\n",
    "    f = open(f_name, \"r\", encoding='utf8')\n",
    "    # keep only alphabetic characters and spaces\n",
    "    regex = re.compile('[^a-zA-Z ]')\n",
    "    words = regex.sub('', f.read())\n",
    "    f.close()\n",
    "    # make all the words lowercase\n",
    "    words = words.lower()\n",
    "    # split string of book into list of strings based on whitespace\n",
    "    w = words.split()\n",
    "    return w\n",
    "\n",
    "# Given a list of strings, return a list of lists [x,y] where x = rank and y = frequency\n",
    "def word_frequency(words):\n",
    "    # create empty dictionary to store frequency of words, key = word (str), value = count (int)\n",
    "    freq = {}\n",
    "    for w in words:\n",
    "        # if word's already been seen, increment wordcount count\n",
    "        if w in freq.keys():\n",
    "            freq[w] += 1\n",
    "        # if it's a new word, add it to dictionary with 1 as word count\n",
    "        else:\n",
    "            freq[w] = 1\n",
    "    # Rank words by frequency, most frequent on top. Returns list of tuples. \n",
    "    freq = sorted(freq.items(), key = lambda x: x[1], reverse = True)\n",
    "    # convert this list of tuples (immutable) to list of lists\n",
    "    freq = [list(x) for x in freq]\n",
    "    # replace the word with an index to get [x,y] where x = rank\n",
    "    for i in freq:\n",
    "        i[0] = freq.index(i) + 1\n",
    "    return freq\n",
    "\n",
    "# Given a list of lists [x,y], plot a log-log scatter plot\n",
    "def log_plot(data, xlabel, ylabel, title):\n",
    "    x = [x for x, y in data]\n",
    "    y = [y for x, y in data]\n",
    "    fig, ax = plt.subplots()\n",
    "    ax.scatter(x, y)\n",
    "    ax.set_xscale(\"log\", basex=10)\n",
    "    ax.set_yscale(\"log\", basey=10)\n",
    "    for axis in [ax.xaxis, ax.yaxis]:\n",
    "        axis.set_major_formatter(ScalarFormatter())\n",
    "    ax.set_xlabel(xlabel)\n",
    "    ax.set_ylabel(ylabel)\n",
    "    ax.set_title(title)\n",
    "    plt.show()\n",
    "\n",
    "# f_name = string of txt file, the others are just labels\n",
    "def analyze(f_name, xlabel, ylabel, title):\n",
    "    words = get_words(f_name)\n",
    "    data =  word_frequency(words)\n",
    "    log_plot(data, xlabel, ylabel, title)"
   ]
  },
  {
   "cell_type": "markdown",
   "metadata": {},
   "source": [
    "Ok, let's test this using the full-text of the Gettysburg Address. "
   ]
  },
  {
   "cell_type": "code",
   "execution_count": 3,
   "metadata": {},
   "outputs": [
    {
     "data": {
      "image/png": "[encoded data removed]",
      "text/plain": [
       "<Figure size 432x288 with 1 Axes>"
      ]
     },
     "metadata": {
      "needs_background": "light"
     },
     "output_type": "display_data"
    }
   ],
   "source": [
    "analyze(\"gettysburg.txt\", \"Rank\", \"Frequency\", \"Gettysburg Address\")"
   ]
  },
  {
   "cell_type": "markdown",
   "metadata": {},
   "source": [
    "There is clearly an inversely-proportional relationship here, but it's very \"choppy\" since this is such a small dataset. Let's try it with something larger like the full text of \"Ulysses\" by James Joyce. "
   ]
  },
  {
   "cell_type": "code",
   "execution_count": 67,
   "metadata": {},
   "outputs": [
    {
     "data": {
      "image/png": "[encoded data removed]",
      "text/plain": [
       "<Figure size 432x288 with 1 Axes>"
      ]
     },
     "metadata": {
      "needs_background": "light"
     },
     "output_type": "display_data"
    }
   ],
   "source": [
    "analyze(\"ulysses.txt\", \"Rank\", \"Frequency\", \"Ulysses\")"
   ]
  },
  {
   "cell_type": "markdown",
   "metadata": {},
   "source": [
    "Look at that nice inverse relationship! If you ignore all of the words that only appear once (the bottom right hand corner of the graph), you have an almost perfect inversely proportional relationship. Nifty!"
   ]
  }
 ],
 "metadata": {
  "kernelspec": {
   "display_name": "Python 3",
   "language": "python",
   "name": "python3"
  },
  "language_info": {
   "codemirror_mode": {
    "name": "ipython",
    "version": 3
   },
   "file_extension": ".py",
   "mimetype": "text/x-python",
   "name": "python",
   "nbconvert_exporter": "python",
   "pygments_lexer": "ipython3",
   "version": "3.8.3"
  }
 },
 "nbformat": 4,
 "nbformat_minor": 5
}
