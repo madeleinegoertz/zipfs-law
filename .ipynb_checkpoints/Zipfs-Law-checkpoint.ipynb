{
 "cells": [
  {
   "cell_type": "markdown",
   "metadata": {},
   "source": [
    "## Zipf's Law\n",
    "\n",
    "I learned about this in Alex Bellos's book \"The Grapes of Math\" and wanted to experiment with it a little myself. \n",
    "\n",
    "Zipf's law says that $frequency = \\frac{k}{rank^a}$, where $freqency$ is how many times a given word appears in a book, $rank$ is how common the word is in relation to other words (eg. the tenth-most common book has $rank = 10$), and $k$ and $a$ are constants. \n",
    "\n",
    "### Some code\n",
    "\n",
    "Here's my implementation of this. All you need is a `.txt` file of a book, and you get some handy-dandy plots"
   ]
  },
  {
   "cell_type": "code",
   "execution_count": 1,
   "metadata": {},
   "outputs": [],
   "source": [
    "import string\n",
    "import matplotlib.pyplot as plt\n",
    "from matplotlib.ticker import ScalarFormatter\n",
    "import numpy as np\n",
    "import math\n",
    "import re\n",
    "\n",
    "# Given a txt file, return a list of all lowercase words. \n",
    "def get_words(f_name):\n",
    "    # read in a txt file of a book as a string\n",
    "    f = open(f_name, \"r\", encoding='utf8')\n",
    "    # keep only alphabetic characters and spaces\n",
    "    regex = re.compile('[^a-zA-Z ]')\n",
    "    words = regex.sub('', f.read())\n",
    "    f.close()\n",
    "    # make all the words lowercase\n",
    "    words = words.lower()\n",
    "    # split string of book into list of strings based on whitespace\n",
    "    w = words.split()\n",
    "    return w"
   ]
  },
  {
   "cell_type": "code",
   "execution_count": 6,
   "metadata": {},
   "outputs": [
    {
     "name": "stdout",
     "output_type": "stream",
     "text": [
      "['four', 'score', 'and', 'seven', 'years', 'ago', 'our', 'fathers', 'brought', 'forthupon', 'this', 'continent', 'a', 'new', 'nation', 'conceived', 'in', 'liberty', 'anddedicated', 'to', 'the', 'proposition', 'that', 'all', 'men', 'are', 'created', 'equalnow', 'we', 'are', 'engaged', 'in', 'a', 'great', 'civil', 'war', 'testing', 'whetherthat', 'nation', 'or', 'any', 'nation', 'so', 'conceived', 'and', 'so', 'dedicated', 'can', 'long', 'endure', 'we', 'are', 'met', 'on', 'a', 'great', 'battlefield', 'of', 'that', 'warwe', 'have', 'come', 'to', 'dedicate', 'a', 'portion', 'of', 'that', 'field', 'as', 'a', 'final', 'resting', 'placefor', 'those', 'who', 'here', 'gave', 'their', 'lives', 'that', 'this', 'nation', 'might', 'liveit', 'is', 'altogether', 'fitting', 'and', 'proper', 'that', 'we', 'should', 'do', 'thisbut', 'in', 'a', 'larger', 'sense', 'we', 'cannot', 'dedicate', 'we', 'cannot', 'consecrate', 'we', 'cannot', 'hallow', 'this', 'ground', 'the', 'brave', 'men', 'living', 'and', 'deadwho', 'struggled', 'here', 'have', 'consecrated', 'it', 'far', 'above', 'our', 'poor', 'powerto', 'add', 'or', 'detract', 'the', 'world', 'will', 'little', 'note', 'nor', 'long', 'rememberwhat', 'we', 'say', 'here', 'but', 'it', 'can', 'never', 'forget', 'what', 'they', 'did', 'hereit', 'is', 'for', 'us', 'the', 'living', 'rather', 'to', 'be', 'dedicated', 'here', 'to', 'the', 'unfinishedwork', 'which', 'they', 'who', 'fought', 'here', 'have', 'thus', 'far', 'so', 'nobly', 'advancedit', 'is', 'rather', 'for', 'us', 'to', 'be', 'here', 'dedicated', 'to', 'the', 'great', 'task', 'remainingbefore', 'us', 'that', 'from', 'these', 'honored', 'dead', 'we', 'take', 'increased', 'devotionto', 'that', 'cause', 'for', 'which', 'they', 'gave', 'the', 'last', 'full', 'measure', 'of', 'devotion', 'that', 'we', 'here', 'highly', 'resolve', 'that', 'these', 'dead', 'shall', 'not', 'have', 'died', 'in', 'vain', 'that', 'this', 'nation', 'under', 'god', 'shall', 'have', 'a', 'new', 'birth', 'of', 'freedom', 'and', 'that', 'government', 'of', 'the', 'people', 'by', 'the', 'people', 'for', 'the', 'people', 'shall', 'not', 'perish', 'from', 'this', 'earth']\n"
     ]
    }
   ],
   "source": [
    "words = get_words(\"gettysburg.txt\")\n",
    "print(words)"
   ]
  },
  {
   "cell_type": "code",
   "execution_count": 7,
   "metadata": {},
   "outputs": [],
   "source": [
    "# Given a list of strings, return a list of lists [x,y] where x = rank and y = frequency\n",
    "def word_frequency(words):\n",
    "    # create empty dictionary to store frequency of words, key = word (str), value = count (int)\n",
    "    freq = {}\n",
    "    for w in words:\n",
    "        # if word's already been seen, increment wordcount count\n",
    "        if w in freq.keys():\n",
    "            freq[w] += 1\n",
    "        # if it's a new word, add it to dictionary with 1 as word count\n",
    "        else:\n",
    "            freq[w] = 1\n",
    "    # Rank words by frequency, most frequent on top. Returns list of tuples. \n",
    "    freq = sorted(freq.items(), key = lambda x: x[1], reverse = True)\n",
    "    # convert this list of tuples (immutable) to list of lists\n",
    "    freq = [list(x) for x in freq]\n",
    "    # replace the word with an index to get [x,y] where x = rank\n",
    "    for i in freq:\n",
    "        i[0] = freq.index(i) + 1\n",
    "    return freq"
   ]
  },
  {
   "cell_type": "code",
   "execution_count": 8,
   "metadata": {},
   "outputs": [
    {
     "name": "stdout",
     "output_type": "stream",
     "text": [
      "[[1, 11], [2, 10], [3, 9], [4, 7], [5, 7], [6, 6], [7, 5], [8, 5], [9, 5], [10, 5], [11, 5], [12, 4], [13, 4], [14, 3], [15, 3], [16, 3], [17, 3], [18, 3], [19, 3], [20, 3], [21, 3], [22, 3], [23, 3], [24, 2], [25, 2], [26, 2], [27, 2], [28, 2], [29, 2], [30, 2], [31, 2], [32, 2], [33, 2], [34, 2], [35, 2], [36, 2], [37, 2], [38, 2], [39, 2], [40, 2], [41, 2], [42, 2], [43, 2], [44, 1], [45, 1], [46, 1], [47, 1], [48, 1], [49, 1], [50, 1], [51, 1], [52, 1], [53, 1], [54, 1], [55, 1], [56, 1], [57, 1], [58, 1], [59, 1], [60, 1], [61, 1], [62, 1], [63, 1], [64, 1], [65, 1], [66, 1], [67, 1], [68, 1], [69, 1], [70, 1], [71, 1], [72, 1], [73, 1], [74, 1], [75, 1], [76, 1], [77, 1], [78, 1], [79, 1], [80, 1], [81, 1], [82, 1], [83, 1], [84, 1], [85, 1], [86, 1], [87, 1], [88, 1], [89, 1], [90, 1], [91, 1], [92, 1], [93, 1], [94, 1], [95, 1], [96, 1], [97, 1], [98, 1], [99, 1], [100, 1], [101, 1], [102, 1], [103, 1], [104, 1], [105, 1], [106, 1], [107, 1], [108, 1], [109, 1], [110, 1], [111, 1], [112, 1], [113, 1], [114, 1], [115, 1], [116, 1], [117, 1], [118, 1], [119, 1], [120, 1], [121, 1], [122, 1], [123, 1], [124, 1], [125, 1], [126, 1], [127, 1], [128, 1], [129, 1], [130, 1], [131, 1], [132, 1], [133, 1], [134, 1], [135, 1], [136, 1], [137, 1], [138, 1], [139, 1], [140, 1], [141, 1], [142, 1]]\n"
     ]
    }
   ],
   "source": [
    "freq = word_frequency(words)\n",
    "print(freq)"
   ]
  },
  {
   "cell_type": "code",
   "execution_count": 9,
   "metadata": {},
   "outputs": [],
   "source": [
    "# Given a list of lists [x,y], plot a log-log scatter plot\n",
    "def log_plot(data, xlabel = \"Rank\", ylabel = \"Frequency\", title=\"\"):\n",
    "    x = [x for x, y in data]\n",
    "    y = [y for x, y in data]\n",
    "    fig, ax = plt.subplots()\n",
    "    ax.scatter(x, y)\n",
    "    ax.set_xscale(\"log\", basex=10)\n",
    "    ax.set_yscale(\"log\", basey=10)\n",
    "    for axis in [ax.xaxis, ax.yaxis]:\n",
    "        axis.set_major_formatter(ScalarFormatter())\n",
    "    ax.set_xlabel(xlabel)\n",
    "    ax.set_ylabel(ylabel)\n",
    "    ax.set_title(title)\n",
    "    plt.show()\n",
    "\n",
    "# f_name = string of txt file, the others are just labels\n",
    "def analyze(f_name, xlabel, ylabel, title):\n",
    "    words = get_words(f_name)\n",
    "    data =  word_frequency(words)\n",
    "    log_plot(data, xlabel, ylabel, title)"
   ]
  },
  {
   "cell_type": "code",
   "execution_count": 10,
   "metadata": {},
   "outputs": [
    {
     "data": {
      "image/png": "[encoded data removed]",
      "text/plain": [
       "<Figure size 432x288 with 1 Axes>"
      ]
     },
     "metadata": {
      "needs_background": "light"
     },
     "output_type": "display_data"
    }
   ],
   "source": [
    "log_plot(freq)"
   ]
  },
  {
   "cell_type": "markdown",
   "metadata": {},
   "source": [
    "Ok, let's test this using the full-text of the Gettysburg Address. "
   ]
  },
  {
   "cell_type": "code",
   "execution_count": 3,
   "metadata": {},
   "outputs": [
    {
     "data": {
      "image/png": "[encoded data removed]",
      "text/plain": [
       "<Figure size 432x288 with 1 Axes>"
      ]
     },
     "metadata": {
      "needs_background": "light"
     },
     "output_type": "display_data"
    }
   ],
   "source": [
    "analyze(\"gettysburg.txt\", \"Rank\", \"Frequency\", \"Gettysburg Address\")"
   ]
  },
  {
   "cell_type": "markdown",
   "metadata": {},
   "source": [
    "There is clearly an inversely-proportional relationship here, but it's very \"choppy\" since this is such a small dataset. Let's try it with something larger like the full text of \"Ulysses\" by James Joyce. "
   ]
  },
  {
   "cell_type": "code",
   "execution_count": 67,
   "metadata": {},
   "outputs": [
    {
     "data": {
      "image/png": "[encoded data removed]",
      "text/plain": [
       "<Figure size 432x288 with 1 Axes>"
      ]
     },
     "metadata": {
      "needs_background": "light"
     },
     "output_type": "display_data"
    }
   ],
   "source": [
    "analyze(\"ulysses.txt\", \"Rank\", \"Frequency\", \"Ulysses\")"
   ]
  },
  {
   "cell_type": "markdown",
   "metadata": {},
   "source": [
    "Look at that nice inverse relationship! If you ignore all of the words that only appear once (the bottom right hand corner of the graph), you have an almost perfect inversely proportional relationship. Nifty!"
   ]
  }
 ],
 "metadata": {
  "kernelspec": {
   "display_name": "Python 3",
   "language": "python",
   "name": "python3"
  },
  "language_info": {
   "codemirror_mode": {
    "name": "ipython",
    "version": 3
   },
   "file_extension": ".py",
   "mimetype": "text/x-python",
   "name": "python",
   "nbconvert_exporter": "python",
   "pygments_lexer": "ipython3",
   "version": "3.8.3"
  }
 },
 "nbformat": 4,
 "nbformat_minor": 5
}
